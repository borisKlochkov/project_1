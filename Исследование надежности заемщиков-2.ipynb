{
 "cells": [
  {
   "cell_type": "markdown",
   "id": "dc5c9f0f",
   "metadata": {},
   "source": [
    "<div style=\"border:solid steelblue 3px; padding: 20px; border-radius: 10px\">\n",
    "\n",
    "**Борис, привет!** 👋\n",
    "\n",
    "Меня зовут Алексей Манелюк, я буду проверять твой проект. В Яндекс Практикуме принято общаться на \"ты\", но если некомфортно - скажи и перейдем на \"Вы\".\n",
    "\n",
    "Моя основная цель - не указать на ошибки, а поделиться опытом и помочь в освоении анализа данных.\n",
    "\n",
    "В тетрадке ты увидишь мои комментарии, пожалуйста, не удаляй, не перемещай и не изменяй их. У комментариев могут быть приписки **V2**, **V3**, **V...**, которые соответствуют каждой версии проверки.\n",
    "\n",
    "Я буду использовать цветовую разметку:\n",
    "<p>\n",
    "<div class=\"alert-danger\" style=\"padding: 20px; border-radius: 10px\">\n",
    "<b>Комментарий ревьюера ❌</b>\n",
    "\n",
    "Так выделены критические замечания. Без их отработки я не смогу принять проект. </div>\n",
    "\n",
    "<div class=\"alert-warning\" style=\"padding: 20px; border-radius: 10px\">\n",
    "<b>  Комментарий ревьюера ⚠️</b>\n",
    "\n",
    "Так выделены небольшие замечания или полезные советы. Постарайся учесть их.</div>\n",
    "<p>\n",
    "<div class=\"alert-success\" style=\"padding: 20px; border-radius: 10px\">\n",
    "<b>Комментарий ревьюера ✔️</b>\n",
    "\n",
    "Так выделены правильные решения.</div>\n",
    "\n",
    "Предлагаю работать в диалоге: если что-то дорабатываешь или отвечаешь на мой комментарий - пиши об этом. Мне будет удобней, если ты выделишь свои комментарии:\n",
    "<p>\n",
    "<div class=\"alert-info\" style=\"padding: 20px; border-radius: 10px\">\n",
    "<b>Комментарий студента 💎</b>\n",
    "\n",
    "Здесь исправил.</div>\n",
    "\n",
    "Все это поможет мне быстрее принять твой проект.</div>"
   ]
  },
  {
   "cell_type": "markdown",
   "id": "51875051",
   "metadata": {},
   "source": [
    "<div class=\"alert-info\" style=\"padding: 20px; border-radius: 10px\">\n",
    "<b>Комментарий студента 💎</b>\n",
    "\n",
    "Ты можешь написать свой комментарий, если скопируешь этот блок в ячейку Markdown.</div>"
   ]
  },
  {
   "cell_type": "markdown",
   "id": "765cf268",
   "metadata": {
    "deletable": false,
    "editable": false,
    "id": "c81daeeb"
   },
   "source": [
    "# Исследование надежности заемщиков\n"
   ]
  },
  {
   "cell_type": "markdown",
   "id": "ee27a440",
   "metadata": {
    "deletable": false,
    "editable": false,
    "id": "827c20bf"
   },
   "source": [
    "Во второй части проекта вы выполните шаги 3 и 4. Их вручную проверит ревьюер.\n",
    "Чтобы вам не пришлось писать код заново для шагов 1 и 2, мы добавили авторские решения в ячейки с кодом. \n",
    "\n"
   ]
  },
  {
   "cell_type": "markdown",
   "id": "62536328",
   "metadata": {},
   "source": [
    "<div class=\"alert-success\" style=\"padding: 20px; border-radius: 10px\">\n",
    "<b>Комментарий ревьюера ✔️</b>\n",
    "\n",
    "Несмотря на то, что первая часть этого проекта проверяется автоматизрованно, дам по ней пару советов - они пригодятся тебе в следующих проектах.\n",
    "\n",
    "📌 Начать проект стоит с описания (цели исследования, описание данных и краткий план работы), а каждый раздел закончить промежуточным выводом.\n",
    "\n",
    "Как правильно оформить проект ты можешь прочитать в материалах курса:\n",
    "\n",
    "`Полезные инструкции для учёбы - Оформление проекта - Рекомендации по выполнению проектов`"
   ]
  },
  {
   "cell_type": "markdown",
   "id": "9c213639",
   "metadata": {
    "deletable": false,
    "editable": false,
    "id": "744d7639"
   },
   "source": [
    "## Откройте таблицу и изучите общую информацию о данных"
   ]
  },
  {
   "cell_type": "markdown",
   "id": "8af157f6",
   "metadata": {
    "deletable": false,
    "editable": false,
    "id": "e7a14c31"
   },
   "source": [
    "**Задание 1. Импортируйте библиотеку pandas. Считайте данные из csv-файла в датафрейм и сохраните в переменную `data`. Путь к файлу:**\n",
    "\n",
    "`/datasets/data.csv`"
   ]
  },
  {
   "cell_type": "code",
   "execution_count": 1,
   "id": "38811bb6",
   "metadata": {
    "deletable": false,
    "id": "7bcf75c9"
   },
   "outputs": [],
   "source": [
    "import pandas as pd\n",
    "\n",
    "try:\n",
    "    data = pd.read_csv('/datasets/data.csv')\n",
    "except:\n",
    "    data = pd.read_csv('https://code.s3.yandex.net/datasets/data.csv')"
   ]
  },
  {
   "cell_type": "markdown",
   "id": "0f1c6100",
   "metadata": {
    "deletable": false,
    "editable": false,
    "id": "b8038fe3"
   },
   "source": [
    "**Задание 2. Выведите первые 20 строчек датафрейма `data` на экран.**"
   ]
  },
  {
   "cell_type": "code",
   "execution_count": 2,
   "id": "2867243e",
   "metadata": {
    "deletable": false,
    "id": "2a7cab99",
    "outputId": "1a8f3ef2-d323-4ec2-ddf7-89670b5944c4"
   },
   "outputs": [
    {
     "data": {
      "text/html": [
       "<div>\n",
       "<style scoped>\n",
       "    .dataframe tbody tr th:only-of-type {\n",
       "        vertical-align: middle;\n",
       "    }\n",
       "\n",
       "    .dataframe tbody tr th {\n",
       "        vertical-align: top;\n",
       "    }\n",
       "\n",
       "    .dataframe thead th {\n",
       "        text-align: right;\n",
       "    }\n",
       "</style>\n",
       "<table border=\"1\" class=\"dataframe\">\n",
       "  <thead>\n",
       "    <tr style=\"text-align: right;\">\n",
       "      <th></th>\n",
       "      <th>children</th>\n",
       "      <th>days_employed</th>\n",
       "      <th>dob_years</th>\n",
       "      <th>education</th>\n",
       "      <th>education_id</th>\n",
       "      <th>family_status</th>\n",
       "      <th>family_status_id</th>\n",
       "      <th>gender</th>\n",
       "      <th>income_type</th>\n",
       "      <th>debt</th>\n",
       "      <th>total_income</th>\n",
       "      <th>purpose</th>\n",
       "    </tr>\n",
       "  </thead>\n",
       "  <tbody>\n",
       "    <tr>\n",
       "      <th>0</th>\n",
       "      <td>1</td>\n",
       "      <td>-8437.673028</td>\n",
       "      <td>42</td>\n",
       "      <td>высшее</td>\n",
       "      <td>0</td>\n",
       "      <td>женат / замужем</td>\n",
       "      <td>0</td>\n",
       "      <td>F</td>\n",
       "      <td>сотрудник</td>\n",
       "      <td>0</td>\n",
       "      <td>253875.639453</td>\n",
       "      <td>покупка жилья</td>\n",
       "    </tr>\n",
       "    <tr>\n",
       "      <th>1</th>\n",
       "      <td>1</td>\n",
       "      <td>-4024.803754</td>\n",
       "      <td>36</td>\n",
       "      <td>среднее</td>\n",
       "      <td>1</td>\n",
       "      <td>женат / замужем</td>\n",
       "      <td>0</td>\n",
       "      <td>F</td>\n",
       "      <td>сотрудник</td>\n",
       "      <td>0</td>\n",
       "      <td>112080.014102</td>\n",
       "      <td>приобретение автомобиля</td>\n",
       "    </tr>\n",
       "    <tr>\n",
       "      <th>2</th>\n",
       "      <td>0</td>\n",
       "      <td>-5623.422610</td>\n",
       "      <td>33</td>\n",
       "      <td>Среднее</td>\n",
       "      <td>1</td>\n",
       "      <td>женат / замужем</td>\n",
       "      <td>0</td>\n",
       "      <td>M</td>\n",
       "      <td>сотрудник</td>\n",
       "      <td>0</td>\n",
       "      <td>145885.952297</td>\n",
       "      <td>покупка жилья</td>\n",
       "    </tr>\n",
       "    <tr>\n",
       "      <th>3</th>\n",
       "      <td>3</td>\n",
       "      <td>-4124.747207</td>\n",
       "      <td>32</td>\n",
       "      <td>среднее</td>\n",
       "      <td>1</td>\n",
       "      <td>женат / замужем</td>\n",
       "      <td>0</td>\n",
       "      <td>M</td>\n",
       "      <td>сотрудник</td>\n",
       "      <td>0</td>\n",
       "      <td>267628.550329</td>\n",
       "      <td>дополнительное образование</td>\n",
       "    </tr>\n",
       "    <tr>\n",
       "      <th>4</th>\n",
       "      <td>0</td>\n",
       "      <td>340266.072047</td>\n",
       "      <td>53</td>\n",
       "      <td>среднее</td>\n",
       "      <td>1</td>\n",
       "      <td>гражданский брак</td>\n",
       "      <td>1</td>\n",
       "      <td>F</td>\n",
       "      <td>пенсионер</td>\n",
       "      <td>0</td>\n",
       "      <td>158616.077870</td>\n",
       "      <td>сыграть свадьбу</td>\n",
       "    </tr>\n",
       "    <tr>\n",
       "      <th>5</th>\n",
       "      <td>0</td>\n",
       "      <td>-926.185831</td>\n",
       "      <td>27</td>\n",
       "      <td>высшее</td>\n",
       "      <td>0</td>\n",
       "      <td>гражданский брак</td>\n",
       "      <td>1</td>\n",
       "      <td>M</td>\n",
       "      <td>компаньон</td>\n",
       "      <td>0</td>\n",
       "      <td>255763.565419</td>\n",
       "      <td>покупка жилья</td>\n",
       "    </tr>\n",
       "    <tr>\n",
       "      <th>6</th>\n",
       "      <td>0</td>\n",
       "      <td>-2879.202052</td>\n",
       "      <td>43</td>\n",
       "      <td>высшее</td>\n",
       "      <td>0</td>\n",
       "      <td>женат / замужем</td>\n",
       "      <td>0</td>\n",
       "      <td>F</td>\n",
       "      <td>компаньон</td>\n",
       "      <td>0</td>\n",
       "      <td>240525.971920</td>\n",
       "      <td>операции с жильем</td>\n",
       "    </tr>\n",
       "    <tr>\n",
       "      <th>7</th>\n",
       "      <td>0</td>\n",
       "      <td>-152.779569</td>\n",
       "      <td>50</td>\n",
       "      <td>СРЕДНЕЕ</td>\n",
       "      <td>1</td>\n",
       "      <td>женат / замужем</td>\n",
       "      <td>0</td>\n",
       "      <td>M</td>\n",
       "      <td>сотрудник</td>\n",
       "      <td>0</td>\n",
       "      <td>135823.934197</td>\n",
       "      <td>образование</td>\n",
       "    </tr>\n",
       "    <tr>\n",
       "      <th>8</th>\n",
       "      <td>2</td>\n",
       "      <td>-6929.865299</td>\n",
       "      <td>35</td>\n",
       "      <td>ВЫСШЕЕ</td>\n",
       "      <td>0</td>\n",
       "      <td>гражданский брак</td>\n",
       "      <td>1</td>\n",
       "      <td>F</td>\n",
       "      <td>сотрудник</td>\n",
       "      <td>0</td>\n",
       "      <td>95856.832424</td>\n",
       "      <td>на проведение свадьбы</td>\n",
       "    </tr>\n",
       "    <tr>\n",
       "      <th>9</th>\n",
       "      <td>0</td>\n",
       "      <td>-2188.756445</td>\n",
       "      <td>41</td>\n",
       "      <td>среднее</td>\n",
       "      <td>1</td>\n",
       "      <td>женат / замужем</td>\n",
       "      <td>0</td>\n",
       "      <td>M</td>\n",
       "      <td>сотрудник</td>\n",
       "      <td>0</td>\n",
       "      <td>144425.938277</td>\n",
       "      <td>покупка жилья для семьи</td>\n",
       "    </tr>\n",
       "    <tr>\n",
       "      <th>10</th>\n",
       "      <td>2</td>\n",
       "      <td>-4171.483647</td>\n",
       "      <td>36</td>\n",
       "      <td>высшее</td>\n",
       "      <td>0</td>\n",
       "      <td>женат / замужем</td>\n",
       "      <td>0</td>\n",
       "      <td>M</td>\n",
       "      <td>компаньон</td>\n",
       "      <td>0</td>\n",
       "      <td>113943.491460</td>\n",
       "      <td>покупка недвижимости</td>\n",
       "    </tr>\n",
       "    <tr>\n",
       "      <th>11</th>\n",
       "      <td>0</td>\n",
       "      <td>-792.701887</td>\n",
       "      <td>40</td>\n",
       "      <td>среднее</td>\n",
       "      <td>1</td>\n",
       "      <td>женат / замужем</td>\n",
       "      <td>0</td>\n",
       "      <td>F</td>\n",
       "      <td>сотрудник</td>\n",
       "      <td>0</td>\n",
       "      <td>77069.234271</td>\n",
       "      <td>покупка коммерческой недвижимости</td>\n",
       "    </tr>\n",
       "    <tr>\n",
       "      <th>12</th>\n",
       "      <td>0</td>\n",
       "      <td>NaN</td>\n",
       "      <td>65</td>\n",
       "      <td>среднее</td>\n",
       "      <td>1</td>\n",
       "      <td>гражданский брак</td>\n",
       "      <td>1</td>\n",
       "      <td>M</td>\n",
       "      <td>пенсионер</td>\n",
       "      <td>0</td>\n",
       "      <td>NaN</td>\n",
       "      <td>сыграть свадьбу</td>\n",
       "    </tr>\n",
       "    <tr>\n",
       "      <th>13</th>\n",
       "      <td>0</td>\n",
       "      <td>-1846.641941</td>\n",
       "      <td>54</td>\n",
       "      <td>неоконченное высшее</td>\n",
       "      <td>2</td>\n",
       "      <td>женат / замужем</td>\n",
       "      <td>0</td>\n",
       "      <td>F</td>\n",
       "      <td>сотрудник</td>\n",
       "      <td>0</td>\n",
       "      <td>130458.228857</td>\n",
       "      <td>приобретение автомобиля</td>\n",
       "    </tr>\n",
       "    <tr>\n",
       "      <th>14</th>\n",
       "      <td>0</td>\n",
       "      <td>-1844.956182</td>\n",
       "      <td>56</td>\n",
       "      <td>высшее</td>\n",
       "      <td>0</td>\n",
       "      <td>гражданский брак</td>\n",
       "      <td>1</td>\n",
       "      <td>F</td>\n",
       "      <td>компаньон</td>\n",
       "      <td>1</td>\n",
       "      <td>165127.911772</td>\n",
       "      <td>покупка жилой недвижимости</td>\n",
       "    </tr>\n",
       "    <tr>\n",
       "      <th>15</th>\n",
       "      <td>1</td>\n",
       "      <td>-972.364419</td>\n",
       "      <td>26</td>\n",
       "      <td>среднее</td>\n",
       "      <td>1</td>\n",
       "      <td>женат / замужем</td>\n",
       "      <td>0</td>\n",
       "      <td>F</td>\n",
       "      <td>сотрудник</td>\n",
       "      <td>0</td>\n",
       "      <td>116820.904450</td>\n",
       "      <td>строительство собственной недвижимости</td>\n",
       "    </tr>\n",
       "    <tr>\n",
       "      <th>16</th>\n",
       "      <td>0</td>\n",
       "      <td>-1719.934226</td>\n",
       "      <td>35</td>\n",
       "      <td>среднее</td>\n",
       "      <td>1</td>\n",
       "      <td>женат / замужем</td>\n",
       "      <td>0</td>\n",
       "      <td>F</td>\n",
       "      <td>сотрудник</td>\n",
       "      <td>0</td>\n",
       "      <td>289202.704229</td>\n",
       "      <td>недвижимость</td>\n",
       "    </tr>\n",
       "    <tr>\n",
       "      <th>17</th>\n",
       "      <td>0</td>\n",
       "      <td>-2369.999720</td>\n",
       "      <td>33</td>\n",
       "      <td>высшее</td>\n",
       "      <td>0</td>\n",
       "      <td>гражданский брак</td>\n",
       "      <td>1</td>\n",
       "      <td>M</td>\n",
       "      <td>сотрудник</td>\n",
       "      <td>0</td>\n",
       "      <td>90410.586745</td>\n",
       "      <td>строительство недвижимости</td>\n",
       "    </tr>\n",
       "    <tr>\n",
       "      <th>18</th>\n",
       "      <td>0</td>\n",
       "      <td>400281.136913</td>\n",
       "      <td>53</td>\n",
       "      <td>среднее</td>\n",
       "      <td>1</td>\n",
       "      <td>вдовец / вдова</td>\n",
       "      <td>2</td>\n",
       "      <td>F</td>\n",
       "      <td>пенсионер</td>\n",
       "      <td>0</td>\n",
       "      <td>56823.777243</td>\n",
       "      <td>на покупку подержанного автомобиля</td>\n",
       "    </tr>\n",
       "    <tr>\n",
       "      <th>19</th>\n",
       "      <td>0</td>\n",
       "      <td>-10038.818549</td>\n",
       "      <td>48</td>\n",
       "      <td>СРЕДНЕЕ</td>\n",
       "      <td>1</td>\n",
       "      <td>в разводе</td>\n",
       "      <td>3</td>\n",
       "      <td>F</td>\n",
       "      <td>сотрудник</td>\n",
       "      <td>0</td>\n",
       "      <td>242831.107982</td>\n",
       "      <td>на покупку своего автомобиля</td>\n",
       "    </tr>\n",
       "  </tbody>\n",
       "</table>\n",
       "</div>"
      ],
      "text/plain": [
       "    children  days_employed  dob_years            education  education_id  \\\n",
       "0          1   -8437.673028         42               высшее             0   \n",
       "1          1   -4024.803754         36              среднее             1   \n",
       "2          0   -5623.422610         33              Среднее             1   \n",
       "3          3   -4124.747207         32              среднее             1   \n",
       "4          0  340266.072047         53              среднее             1   \n",
       "5          0    -926.185831         27               высшее             0   \n",
       "6          0   -2879.202052         43               высшее             0   \n",
       "7          0    -152.779569         50              СРЕДНЕЕ             1   \n",
       "8          2   -6929.865299         35               ВЫСШЕЕ             0   \n",
       "9          0   -2188.756445         41              среднее             1   \n",
       "10         2   -4171.483647         36               высшее             0   \n",
       "11         0    -792.701887         40              среднее             1   \n",
       "12         0            NaN         65              среднее             1   \n",
       "13         0   -1846.641941         54  неоконченное высшее             2   \n",
       "14         0   -1844.956182         56               высшее             0   \n",
       "15         1    -972.364419         26              среднее             1   \n",
       "16         0   -1719.934226         35              среднее             1   \n",
       "17         0   -2369.999720         33               высшее             0   \n",
       "18         0  400281.136913         53              среднее             1   \n",
       "19         0  -10038.818549         48              СРЕДНЕЕ             1   \n",
       "\n",
       "       family_status  family_status_id gender income_type  debt  \\\n",
       "0    женат / замужем                 0      F   сотрудник     0   \n",
       "1    женат / замужем                 0      F   сотрудник     0   \n",
       "2    женат / замужем                 0      M   сотрудник     0   \n",
       "3    женат / замужем                 0      M   сотрудник     0   \n",
       "4   гражданский брак                 1      F   пенсионер     0   \n",
       "5   гражданский брак                 1      M   компаньон     0   \n",
       "6    женат / замужем                 0      F   компаньон     0   \n",
       "7    женат / замужем                 0      M   сотрудник     0   \n",
       "8   гражданский брак                 1      F   сотрудник     0   \n",
       "9    женат / замужем                 0      M   сотрудник     0   \n",
       "10   женат / замужем                 0      M   компаньон     0   \n",
       "11   женат / замужем                 0      F   сотрудник     0   \n",
       "12  гражданский брак                 1      M   пенсионер     0   \n",
       "13   женат / замужем                 0      F   сотрудник     0   \n",
       "14  гражданский брак                 1      F   компаньон     1   \n",
       "15   женат / замужем                 0      F   сотрудник     0   \n",
       "16   женат / замужем                 0      F   сотрудник     0   \n",
       "17  гражданский брак                 1      M   сотрудник     0   \n",
       "18    вдовец / вдова                 2      F   пенсионер     0   \n",
       "19         в разводе                 3      F   сотрудник     0   \n",
       "\n",
       "     total_income                                 purpose  \n",
       "0   253875.639453                           покупка жилья  \n",
       "1   112080.014102                 приобретение автомобиля  \n",
       "2   145885.952297                           покупка жилья  \n",
       "3   267628.550329              дополнительное образование  \n",
       "4   158616.077870                         сыграть свадьбу  \n",
       "5   255763.565419                           покупка жилья  \n",
       "6   240525.971920                       операции с жильем  \n",
       "7   135823.934197                             образование  \n",
       "8    95856.832424                   на проведение свадьбы  \n",
       "9   144425.938277                 покупка жилья для семьи  \n",
       "10  113943.491460                    покупка недвижимости  \n",
       "11   77069.234271       покупка коммерческой недвижимости  \n",
       "12            NaN                         сыграть свадьбу  \n",
       "13  130458.228857                 приобретение автомобиля  \n",
       "14  165127.911772              покупка жилой недвижимости  \n",
       "15  116820.904450  строительство собственной недвижимости  \n",
       "16  289202.704229                            недвижимость  \n",
       "17   90410.586745              строительство недвижимости  \n",
       "18   56823.777243      на покупку подержанного автомобиля  \n",
       "19  242831.107982            на покупку своего автомобиля  "
      ]
     },
     "execution_count": 2,
     "metadata": {},
     "output_type": "execute_result"
    }
   ],
   "source": [
    "data.head(20)"
   ]
  },
  {
   "cell_type": "markdown",
   "id": "8fc4e6b9",
   "metadata": {
    "deletable": false,
    "editable": false,
    "id": "1c12e233"
   },
   "source": [
    "**Задание 3. Выведите основную информацию о датафрейме с помощью метода `info()`.**"
   ]
  },
  {
   "cell_type": "code",
   "execution_count": 3,
   "id": "219efe49",
   "metadata": {
    "deletable": false,
    "id": "2b757bca",
    "outputId": "15376089-8dad-46c9-b520-c05248d43158"
   },
   "outputs": [
    {
     "name": "stdout",
     "output_type": "stream",
     "text": [
      "<class 'pandas.core.frame.DataFrame'>\n",
      "RangeIndex: 21525 entries, 0 to 21524\n",
      "Data columns (total 12 columns):\n",
      " #   Column            Non-Null Count  Dtype  \n",
      "---  ------            --------------  -----  \n",
      " 0   children          21525 non-null  int64  \n",
      " 1   days_employed     19351 non-null  float64\n",
      " 2   dob_years         21525 non-null  int64  \n",
      " 3   education         21525 non-null  object \n",
      " 4   education_id      21525 non-null  int64  \n",
      " 5   family_status     21525 non-null  object \n",
      " 6   family_status_id  21525 non-null  int64  \n",
      " 7   gender            21525 non-null  object \n",
      " 8   income_type       21525 non-null  object \n",
      " 9   debt              21525 non-null  int64  \n",
      " 10  total_income      19351 non-null  float64\n",
      " 11  purpose           21525 non-null  object \n",
      "dtypes: float64(2), int64(5), object(5)\n",
      "memory usage: 2.0+ MB\n"
     ]
    }
   ],
   "source": [
    "data.info()"
   ]
  },
  {
   "cell_type": "markdown",
   "id": "d2fb658f",
   "metadata": {
    "deletable": false,
    "editable": false,
    "id": "333ec665"
   },
   "source": [
    "## Предобработка данных"
   ]
  },
  {
   "cell_type": "markdown",
   "id": "2e564ae1",
   "metadata": {
    "deletable": false,
    "editable": false,
    "id": "02d92d53"
   },
   "source": [
    "### Удаление пропусков"
   ]
  },
  {
   "cell_type": "markdown",
   "id": "8a550b51",
   "metadata": {
    "deletable": false,
    "editable": false,
    "id": "cd84967c"
   },
   "source": [
    "**Задание 4. Выведите количество пропущенных значений для каждого столбца. Используйте комбинацию двух методов.**"
   ]
  },
  {
   "cell_type": "code",
   "execution_count": 4,
   "id": "5317570e",
   "metadata": {
    "deletable": false,
    "id": "7f9b2309",
    "outputId": "81f4d817-781c-465c-ed15-91ce4446810d"
   },
   "outputs": [
    {
     "data": {
      "text/plain": [
       "children               0\n",
       "days_employed       2174\n",
       "dob_years              0\n",
       "education              0\n",
       "education_id           0\n",
       "family_status          0\n",
       "family_status_id       0\n",
       "gender                 0\n",
       "income_type            0\n",
       "debt                   0\n",
       "total_income        2174\n",
       "purpose                0\n",
       "dtype: int64"
      ]
     },
     "execution_count": 4,
     "metadata": {},
     "output_type": "execute_result"
    }
   ],
   "source": [
    "data.isna().sum()"
   ]
  },
  {
   "cell_type": "markdown",
   "id": "9341f9d0",
   "metadata": {
    "deletable": false,
    "editable": false,
    "id": "db86e27b"
   },
   "source": [
    "**Задание 5. В двух столбцах есть пропущенные значения. Один из них — `days_employed`. Пропуски в этом столбце вы обработаете на следующем этапе. Другой столбец с пропущенными значениями — `total_income` — хранит данные о доходах. На сумму дохода сильнее всего влияет тип занятости, поэтому заполнить пропуски в этом столбце нужно медианным значением по каждому типу из столбца `income_type`. Например, у человека с типом занятости `сотрудник` пропуск в столбце `total_income` должен быть заполнен медианным доходом среди всех записей с тем же типом.**"
   ]
  },
  {
   "cell_type": "code",
   "execution_count": 5,
   "id": "c5aa436e",
   "metadata": {
    "deletable": false,
    "id": "42006a93"
   },
   "outputs": [],
   "source": [
    "for t in data['income_type'].unique():\n",
    "    data.loc[(data['income_type'] == t) & (data['total_income'].isna()), 'total_income'] = \\\n",
    "    data.loc[(data['income_type'] == t), 'total_income'].median()"
   ]
  },
  {
   "cell_type": "markdown",
   "id": "f79ac40f",
   "metadata": {
    "deletable": false,
    "editable": false,
    "id": "89da5ece"
   },
   "source": [
    "### Обработка аномальных значений"
   ]
  },
  {
   "cell_type": "markdown",
   "id": "0c4bb55f",
   "metadata": {
    "deletable": false,
    "editable": false,
    "id": "57964554"
   },
   "source": [
    "**Задание 6. В данных могут встречаться артефакты (аномалии) — значения, которые не отражают действительность и появились по какой-то ошибке. таким артефактом будет отрицательное количество дней трудового стажа в столбце `days_employed`. Для реальных данных это нормально. Обработайте значения в этом столбце: замените все отрицательные значения положительными с помощью метода `abs()`.**"
   ]
  },
  {
   "cell_type": "code",
   "execution_count": 6,
   "id": "ccd56a25",
   "metadata": {
    "deletable": false,
    "id": "f6f055bf"
   },
   "outputs": [],
   "source": [
    "data['days_employed'] = data['days_employed'].abs()"
   ]
  },
  {
   "cell_type": "markdown",
   "id": "f5c995a9",
   "metadata": {
    "deletable": false,
    "editable": false,
    "id": "6107dd2f"
   },
   "source": [
    "**Задание 7. Для каждого типа занятости выведите медианное значение трудового стажа `days_employed` в днях.**"
   ]
  },
  {
   "cell_type": "code",
   "execution_count": 7,
   "id": "42b7e1b7",
   "metadata": {
    "deletable": false,
    "id": "85a5faf6",
    "outputId": "801ef80e-522b-4668-f34e-565af7432bcf"
   },
   "outputs": [
    {
     "data": {
      "text/plain": [
       "income_type\n",
       "безработный        366413.652744\n",
       "в декрете            3296.759962\n",
       "госслужащий          2689.368353\n",
       "компаньон            1547.382223\n",
       "пенсионер          365213.306266\n",
       "предприниматель       520.848083\n",
       "сотрудник            1574.202821\n",
       "студент               578.751554\n",
       "Name: days_employed, dtype: float64"
      ]
     },
     "execution_count": 7,
     "metadata": {},
     "output_type": "execute_result"
    }
   ],
   "source": [
    "data.groupby('income_type')['days_employed'].agg('median')"
   ]
  },
  {
   "cell_type": "markdown",
   "id": "03f966b4",
   "metadata": {
    "deletable": false,
    "editable": false,
    "id": "38d1a030"
   },
   "source": [
    "У двух типов (безработные и пенсионеры) получатся аномально большие значения. Исправить такие значения сложно, поэтому оставьте их как есть. Тем более этот столбец не понадобится вам для исследования."
   ]
  },
  {
   "cell_type": "markdown",
   "id": "076128c0",
   "metadata": {
    "deletable": false,
    "editable": false,
    "id": "d8a9f147"
   },
   "source": [
    "**Задание 8. Выведите перечень уникальных значений столбца `children`.**"
   ]
  },
  {
   "cell_type": "code",
   "execution_count": 8,
   "id": "1834af3d",
   "metadata": {
    "deletable": false,
    "id": "ef5056eb",
    "outputId": "6975b15c-7f95-4697-d16d-a0c79b657b03"
   },
   "outputs": [
    {
     "data": {
      "text/plain": [
       "array([ 1,  0,  3,  2, -1,  4, 20,  5])"
      ]
     },
     "execution_count": 8,
     "metadata": {},
     "output_type": "execute_result"
    }
   ],
   "source": [
    "data['children'].unique()"
   ]
  },
  {
   "cell_type": "markdown",
   "id": "f4991e62",
   "metadata": {
    "deletable": false,
    "editable": false,
    "id": "40b9ebf2"
   },
   "source": [
    "**Задание 9. В столбце `children` есть два аномальных значения. Удалите строки, в которых встречаются такие аномальные значения из датафрейма `data`.**"
   ]
  },
  {
   "cell_type": "code",
   "execution_count": 9,
   "id": "17ff2659",
   "metadata": {
    "deletable": false,
    "id": "3ff9801d"
   },
   "outputs": [],
   "source": [
    "data = data[(data['children'] != -1) & (data['children'] != 20)]"
   ]
  },
  {
   "cell_type": "markdown",
   "id": "23119be3",
   "metadata": {
    "deletable": false,
    "editable": false,
    "id": "bbc4d0ce"
   },
   "source": [
    "**Задание 10. Ещё раз выведите перечень уникальных значений столбца `children`, чтобы убедиться, что артефакты удалены.**"
   ]
  },
  {
   "cell_type": "code",
   "execution_count": 10,
   "id": "b6ed9549",
   "metadata": {
    "deletable": false,
    "id": "ad4fa8b7",
    "outputId": "b2097101-d49d-44d9-901b-32a65c9463d1"
   },
   "outputs": [
    {
     "data": {
      "text/plain": [
       "array([1, 0, 3, 2, 4, 5])"
      ]
     },
     "execution_count": 10,
     "metadata": {},
     "output_type": "execute_result"
    }
   ],
   "source": [
    "data['children'].unique()"
   ]
  },
  {
   "cell_type": "markdown",
   "id": "5ae6fbfb",
   "metadata": {
    "deletable": false,
    "editable": false,
    "id": "75440b63"
   },
   "source": [
    "### Удаление пропусков (продолжение)"
   ]
  },
  {
   "cell_type": "markdown",
   "id": "0975af9e",
   "metadata": {
    "deletable": false,
    "editable": false,
    "id": "f4ea573f"
   },
   "source": [
    "**Задание 11. Заполните пропуски в столбце `days_employed` медианными значениями по каждого типа занятости `income_type`.**"
   ]
  },
  {
   "cell_type": "code",
   "execution_count": 11,
   "id": "14acaa79",
   "metadata": {
    "deletable": false,
    "id": "af6b1a7e"
   },
   "outputs": [],
   "source": [
    "for t in data['income_type'].unique():\n",
    "    data.loc[(data['income_type'] == t) & (data['days_employed'].isna()), 'days_employed'] = \\\n",
    "    data.loc[(data['income_type'] == t), 'days_employed'].median()"
   ]
  },
  {
   "cell_type": "markdown",
   "id": "67e086a3",
   "metadata": {
    "deletable": false,
    "editable": false,
    "id": "2753f40d"
   },
   "source": [
    "**Задание 12. Убедитесь, что все пропуски заполнены. Проверьте себя и ещё раз выведите количество пропущенных значений для каждого столбца с помощью двух методов.**"
   ]
  },
  {
   "cell_type": "code",
   "execution_count": 12,
   "id": "9c5158dd",
   "metadata": {
    "deletable": false,
    "id": "55f78bc2",
    "outputId": "8da1e4e1-358e-4e87-98c9-f261bce0a7b2"
   },
   "outputs": [
    {
     "data": {
      "text/plain": [
       "children            0\n",
       "days_employed       0\n",
       "dob_years           0\n",
       "education           0\n",
       "education_id        0\n",
       "family_status       0\n",
       "family_status_id    0\n",
       "gender              0\n",
       "income_type         0\n",
       "debt                0\n",
       "total_income        0\n",
       "purpose             0\n",
       "dtype: int64"
      ]
     },
     "execution_count": 12,
     "metadata": {},
     "output_type": "execute_result"
    }
   ],
   "source": [
    "data.isna().sum()"
   ]
  },
  {
   "cell_type": "markdown",
   "id": "d4f2b013",
   "metadata": {
    "deletable": false,
    "editable": false,
    "id": "ddc81e43"
   },
   "source": [
    "### Изменение типов данных"
   ]
  },
  {
   "cell_type": "markdown",
   "id": "cc863a48",
   "metadata": {
    "deletable": false,
    "editable": false,
    "id": "42d19d24"
   },
   "source": [
    "**Задание 13. Замените вещественный тип данных в столбце `total_income` на целочисленный с помощью метода `astype()`.**"
   ]
  },
  {
   "cell_type": "code",
   "execution_count": 13,
   "id": "d003ce81",
   "metadata": {
    "deletable": false,
    "id": "920b65ad"
   },
   "outputs": [],
   "source": [
    "data['total_income'] = data['total_income'].astype(int)"
   ]
  },
  {
   "cell_type": "markdown",
   "id": "08dcdab8",
   "metadata": {
    "deletable": false,
    "editable": false,
    "id": "80c420ba"
   },
   "source": [
    "### Обработка дубликатов"
   ]
  },
  {
   "cell_type": "markdown",
   "id": "eac4583e",
   "metadata": {
    "deletable": false,
    "editable": false
   },
   "source": [
    "**Задание 14. Обработайте неявные дубликаты в столбце `education`. В этом столбце есть одни и те же значения, но записанные по-разному: с использованием заглавных и строчных букв. Приведите их к нижнему регистру. Проверьте остальные столбцы.**"
   ]
  },
  {
   "cell_type": "code",
   "execution_count": 14,
   "id": "5fe7582a",
   "metadata": {
    "deletable": false
   },
   "outputs": [],
   "source": [
    "data['education'] = data['education'].str.lower()"
   ]
  },
  {
   "cell_type": "markdown",
   "id": "b605933e",
   "metadata": {
    "deletable": false,
    "editable": false,
    "id": "dc587695"
   },
   "source": [
    "**Задание 15. Выведите на экран количество строк-дубликатов в данных. Если такие строки присутствуют, удалите их.**"
   ]
  },
  {
   "cell_type": "code",
   "execution_count": 15,
   "id": "94c417fd",
   "metadata": {
    "deletable": false,
    "id": "3ee445e4",
    "outputId": "9684deba-1934-42d1-99e1-cda61740f822"
   },
   "outputs": [
    {
     "data": {
      "text/plain": [
       "71"
      ]
     },
     "execution_count": 15,
     "metadata": {},
     "output_type": "execute_result"
    }
   ],
   "source": [
    "data.duplicated().sum()"
   ]
  },
  {
   "cell_type": "code",
   "execution_count": 16,
   "id": "a39ab2da",
   "metadata": {
    "deletable": false,
    "id": "8575fe05"
   },
   "outputs": [],
   "source": [
    "data = data.drop_duplicates()"
   ]
  },
  {
   "cell_type": "markdown",
   "id": "692bf027",
   "metadata": {
    "deletable": false,
    "editable": false,
    "id": "9904cf55"
   },
   "source": [
    "### Категоризация данных"
   ]
  },
  {
   "cell_type": "markdown",
   "id": "dc7838a8",
   "metadata": {
    "deletable": false,
    "editable": false,
    "id": "72fcc8a2"
   },
   "source": [
    "**Задание 16. На основании диапазонов, указанных ниже, создайте в датафрейме `data` столбец `total_income_category` с категориями:**\n",
    "\n",
    "- 0–30000 — `'E'`;\n",
    "- 30001–50000 — `'D'`;\n",
    "- 50001–200000 — `'C'`;\n",
    "- 200001–1000000 — `'B'`;\n",
    "- 1000001 и выше — `'A'`.\n",
    "\n",
    "\n",
    "**Например, кредитополучателю с доходом 25000 нужно назначить категорию `'E'`, а клиенту, получающему 235000, — `'B'`. Используйте собственную функцию с именем `categorize_income()` и метод `apply()`.**"
   ]
  },
  {
   "cell_type": "code",
   "execution_count": 17,
   "id": "50e0967d",
   "metadata": {
    "deletable": false,
    "id": "e1771346"
   },
   "outputs": [],
   "source": [
    "def categorize_income(income):\n",
    "    try:\n",
    "        if 0 <= income <= 30000:\n",
    "            return 'E'\n",
    "        elif 30001 <= income <= 50000:\n",
    "            return 'D'\n",
    "        elif 50001 <= income <= 200000:\n",
    "            return 'C'\n",
    "        elif 200001 <= income <= 1000000:\n",
    "            return 'B'\n",
    "        elif income >= 1000001:\n",
    "            return 'A'\n",
    "    except:\n",
    "        pass"
   ]
  },
  {
   "cell_type": "code",
   "execution_count": 18,
   "id": "87f83b5d",
   "metadata": {
    "deletable": false,
    "id": "d5f3586d"
   },
   "outputs": [],
   "source": [
    "data['total_income_category'] = data['total_income'].apply(categorize_income)"
   ]
  },
  {
   "cell_type": "markdown",
   "id": "fb5c6edf",
   "metadata": {
    "deletable": false,
    "editable": false,
    "id": "dde49b5c"
   },
   "source": [
    "**Задание 17. Выведите на экран перечень уникальных целей взятия кредита из столбца `purpose`.**"
   ]
  },
  {
   "cell_type": "code",
   "execution_count": 19,
   "id": "8bf46d6a",
   "metadata": {
    "deletable": false,
    "id": "f67ce9b3",
    "outputId": "673c12d9-7d7e-4ae0-9812-c622c89dd244"
   },
   "outputs": [
    {
     "data": {
      "text/plain": [
       "array(['покупка жилья', 'приобретение автомобиля',\n",
       "       'дополнительное образование', 'сыграть свадьбу',\n",
       "       'операции с жильем', 'образование', 'на проведение свадьбы',\n",
       "       'покупка жилья для семьи', 'покупка недвижимости',\n",
       "       'покупка коммерческой недвижимости', 'покупка жилой недвижимости',\n",
       "       'строительство собственной недвижимости', 'недвижимость',\n",
       "       'строительство недвижимости', 'на покупку подержанного автомобиля',\n",
       "       'на покупку своего автомобиля',\n",
       "       'операции с коммерческой недвижимостью',\n",
       "       'строительство жилой недвижимости', 'жилье',\n",
       "       'операции со своей недвижимостью', 'автомобили',\n",
       "       'заняться образованием', 'сделка с подержанным автомобилем',\n",
       "       'получение образования', 'автомобиль', 'свадьба',\n",
       "       'получение дополнительного образования', 'покупка своего жилья',\n",
       "       'операции с недвижимостью', 'получение высшего образования',\n",
       "       'свой автомобиль', 'сделка с автомобилем',\n",
       "       'профильное образование', 'высшее образование',\n",
       "       'покупка жилья для сдачи', 'на покупку автомобиля', 'ремонт жилью',\n",
       "       'заняться высшим образованием'], dtype=object)"
      ]
     },
     "execution_count": 19,
     "metadata": {},
     "output_type": "execute_result"
    }
   ],
   "source": [
    "data['purpose'].unique()"
   ]
  },
  {
   "cell_type": "markdown",
   "id": "5b9297a8",
   "metadata": {
    "deletable": false,
    "editable": false,
    "id": "85d0aef0"
   },
   "source": [
    "**Задание 18. Создайте функцию, которая на основании данных из столбца `purpose` сформирует новый столбец `purpose_category`, в который войдут следующие категории:**\n",
    "\n",
    "- `'операции с автомобилем'`,\n",
    "- `'операции с недвижимостью'`,\n",
    "- `'проведение свадьбы'`,\n",
    "- `'получение образования'`.\n",
    "\n",
    "**Например, если в столбце `purpose` находится подстрока `'на покупку автомобиля'`, то в столбце `purpose_category` должна появиться строка `'операции с автомобилем'`.**\n",
    "\n",
    "**Используйте собственную функцию с именем `categorize_purpose()` и метод `apply()`. Изучите данные в столбце `purpose` и определите, какие подстроки помогут вам правильно определить категорию.**"
   ]
  },
  {
   "cell_type": "code",
   "execution_count": 20,
   "id": "06b395a1",
   "metadata": {
    "deletable": false,
    "id": "e149fab4"
   },
   "outputs": [],
   "source": [
    "def categorize_purpose(row):\n",
    "    try:\n",
    "        if 'автом' in row:\n",
    "            return 'операции с автомобилем'\n",
    "        elif 'жил' in row or 'недвиж' in row:\n",
    "            return 'операции с недвижимостью'\n",
    "        elif 'свад' in row:\n",
    "            return 'проведение свадьбы'\n",
    "        elif 'образов' in row:\n",
    "            return 'получение образования'\n",
    "    except:\n",
    "        return 'нет категории'"
   ]
  },
  {
   "cell_type": "code",
   "execution_count": 21,
   "id": "bf30461d",
   "metadata": {
    "deletable": false,
    "id": "bf36e69b"
   },
   "outputs": [],
   "source": [
    "data['purpose_category'] = data['purpose'].apply(categorize_purpose)"
   ]
  },
  {
   "cell_type": "markdown",
   "id": "3b8f49ee",
   "metadata": {
    "deletable": false,
    "editable": false,
    "id": "09b242bf"
   },
   "source": [
    "### Шаг 3. Исследуйте данные и ответьте на вопросы"
   ]
  },
  {
   "cell_type": "markdown",
   "id": "faf63401",
   "metadata": {
    "deletable": false,
    "editable": false,
    "id": "c5d66278"
   },
   "source": [
    "#### 3.1 Есть ли зависимость между количеством детей и возвратом кредита в срок?"
   ]
  },
  {
   "cell_type": "code",
   "execution_count": 22,
   "id": "af9426c0",
   "metadata": {
    "deletable": false,
    "id": "2cacfc4a"
   },
   "outputs": [
    {
     "data": {
      "text/html": [
       "<div>\n",
       "<style scoped>\n",
       "    .dataframe tbody tr th:only-of-type {\n",
       "        vertical-align: middle;\n",
       "    }\n",
       "\n",
       "    .dataframe tbody tr th {\n",
       "        vertical-align: top;\n",
       "    }\n",
       "\n",
       "    .dataframe thead th {\n",
       "        text-align: right;\n",
       "    }\n",
       "</style>\n",
       "<table border=\"1\" class=\"dataframe\">\n",
       "  <thead>\n",
       "    <tr style=\"text-align: right;\">\n",
       "      <th></th>\n",
       "      <th>debt</th>\n",
       "      <th>debt_delayed</th>\n",
       "      <th>debt_delayed_ratio</th>\n",
       "    </tr>\n",
       "    <tr>\n",
       "      <th>children</th>\n",
       "      <th></th>\n",
       "      <th></th>\n",
       "      <th></th>\n",
       "    </tr>\n",
       "  </thead>\n",
       "  <tbody>\n",
       "    <tr>\n",
       "      <th>0</th>\n",
       "      <td>14149</td>\n",
       "      <td>1063</td>\n",
       "      <td>7.51%</td>\n",
       "    </tr>\n",
       "    <tr>\n",
       "      <th>1</th>\n",
       "      <td>4818</td>\n",
       "      <td>444</td>\n",
       "      <td>9.22%</td>\n",
       "    </tr>\n",
       "    <tr>\n",
       "      <th>2</th>\n",
       "      <td>2055</td>\n",
       "      <td>194</td>\n",
       "      <td>9.44%</td>\n",
       "    </tr>\n",
       "    <tr>\n",
       "      <th>3</th>\n",
       "      <td>330</td>\n",
       "      <td>27</td>\n",
       "      <td>8.18%</td>\n",
       "    </tr>\n",
       "    <tr>\n",
       "      <th>4</th>\n",
       "      <td>41</td>\n",
       "      <td>4</td>\n",
       "      <td>9.76%</td>\n",
       "    </tr>\n",
       "    <tr>\n",
       "      <th>5</th>\n",
       "      <td>9</td>\n",
       "      <td>0</td>\n",
       "      <td>0.00%</td>\n",
       "    </tr>\n",
       "  </tbody>\n",
       "</table>\n",
       "</div>"
      ],
      "text/plain": [
       "           debt  debt_delayed debt_delayed_ratio\n",
       "children                                        \n",
       "0         14149          1063              7.51%\n",
       "1          4818           444              9.22%\n",
       "2          2055           194              9.44%\n",
       "3           330            27              8.18%\n",
       "4            41             4              9.76%\n",
       "5             9             0              0.00%"
      ]
     },
     "execution_count": 22,
     "metadata": {},
     "output_type": "execute_result"
    }
   ],
   "source": [
    "import pandas as pd\n",
    "\n",
    "data = pd.read_csv('/datasets/data.csv')\n",
    "\n",
    "data = data[(data['children'] != -1) & (data['children'] != 20)]\n",
    "\n",
    "children_grouped = data.groupby('children').count()\n",
    "\n",
    "children_grouped['debt_delayed'] = data.groupby('children')['debt'].sum()\n",
    "\n",
    "children_grouped['debt_delayed_ratio'] = (data.groupby('children')['debt'].sum() / data.groupby('children')['debt'].count()).map(\"{:.2%}\".format)\n",
    "\n",
    "children_grouped[['debt', 'debt_delayed', 'debt_delayed_ratio']]\n"
   ]
  },
  {
   "cell_type": "markdown",
   "id": "51890061",
   "metadata": {},
   "source": [
    "<div class=\"alert-success\" style=\"padding: 20px; border-radius: 10px\">\n",
    "<b>Комментарий ревьюера ✔️</b>\n",
    "\n",
    "Это правильная сводная таблица, все нужные данные для сравнения категорий есть! 👍</div>"
   ]
  },
  {
   "cell_type": "markdown",
   "id": "eaeabba5",
   "metadata": {
    "deletable": false,
    "id": "3a6b99ec"
   },
   "source": [
    "**Вывод:**  Рейтинг кредиторов не показывакет прямой зависимости между количеством детей в семье и возвратом кредита в срок. Более того при делении заемщиков на группы мы видим, что у основной массы кредиторов нет детей, либо всего один ребенок. \n",
    "Также мы можем заметить, что у семей с тремя детьми, рейтинг лучше чем у семей с двумя детьми или одним ребенком.\n",
    "\n",
    "но опираясь на сухие цифры, все-таки заемщики без детей самые надежные, скорее всего это связано с увеличением расходов в семье на детей, что в следствие вызывает трудности в полной мере выплачивать кредит в срок."
   ]
  },
  {
   "cell_type": "markdown",
   "id": "1d75fb38",
   "metadata": {},
   "source": [
    "<div class=\"alert-warning\" style=\"padding: 20px; border-radius: 10px\">\n",
    "<b>Комментарий ревьюера ⚠️</b>\n",
    "\n",
    "Ты правильно обратил внимание на то, что выборки несбалансированны. Поэтому выявлять зависимость стоит, сравнивая самые большие, сопоставимые по размеру категории заемщиков. Какую зависимость можно выявить, сравнив категории с 0, 1 и 2 детьми?</div>"
   ]
  },
  {
   "cell_type": "markdown",
   "id": "3f2f5709",
   "metadata": {
    "deletable": false,
    "editable": false,
    "id": "97be82ca"
   },
   "source": [
    "#### 3.2 Есть ли зависимость между семейным положением и возвратом кредита в срок?"
   ]
  },
  {
   "cell_type": "code",
   "execution_count": 23,
   "id": "fb3ba2ab",
   "metadata": {
    "deletable": false,
    "id": "dc3f7ee8"
   },
   "outputs": [
    {
     "data": {
      "text/html": [
       "<div>\n",
       "<style scoped>\n",
       "    .dataframe tbody tr th:only-of-type {\n",
       "        vertical-align: middle;\n",
       "    }\n",
       "\n",
       "    .dataframe tbody tr th {\n",
       "        vertical-align: top;\n",
       "    }\n",
       "\n",
       "    .dataframe thead th {\n",
       "        text-align: right;\n",
       "    }\n",
       "</style>\n",
       "<table border=\"1\" class=\"dataframe\">\n",
       "  <thead>\n",
       "    <tr style=\"text-align: right;\">\n",
       "      <th></th>\n",
       "      <th>debt</th>\n",
       "      <th>debt_delayed</th>\n",
       "      <th>debt_delayed_ratio</th>\n",
       "    </tr>\n",
       "    <tr>\n",
       "      <th>family_status</th>\n",
       "      <th></th>\n",
       "      <th></th>\n",
       "      <th></th>\n",
       "    </tr>\n",
       "  </thead>\n",
       "  <tbody>\n",
       "    <tr>\n",
       "      <th>Не женат / не замужем</th>\n",
       "      <td>2799</td>\n",
       "      <td>273</td>\n",
       "      <td>9.75%</td>\n",
       "    </tr>\n",
       "    <tr>\n",
       "      <th>в разводе</th>\n",
       "      <td>1189</td>\n",
       "      <td>84</td>\n",
       "      <td>7.06%</td>\n",
       "    </tr>\n",
       "    <tr>\n",
       "      <th>вдовец / вдова</th>\n",
       "      <td>952</td>\n",
       "      <td>63</td>\n",
       "      <td>6.62%</td>\n",
       "    </tr>\n",
       "    <tr>\n",
       "      <th>гражданский брак</th>\n",
       "      <td>4160</td>\n",
       "      <td>385</td>\n",
       "      <td>9.25%</td>\n",
       "    </tr>\n",
       "    <tr>\n",
       "      <th>женат / замужем</th>\n",
       "      <td>12302</td>\n",
       "      <td>927</td>\n",
       "      <td>7.54%</td>\n",
       "    </tr>\n",
       "  </tbody>\n",
       "</table>\n",
       "</div>"
      ],
      "text/plain": [
       "                        debt  debt_delayed debt_delayed_ratio\n",
       "family_status                                                \n",
       "Не женат / не замужем   2799           273              9.75%\n",
       "в разводе               1189            84              7.06%\n",
       "вдовец / вдова           952            63              6.62%\n",
       "гражданский брак        4160           385              9.25%\n",
       "женат / замужем        12302           927              7.54%"
      ]
     },
     "execution_count": 23,
     "metadata": {},
     "output_type": "execute_result"
    }
   ],
   "source": [
    "family_status_grouped = data.groupby('family_status').count()\n",
    "family_status_grouped['debt_delayed'] = data.groupby('family_status')['debt'].sum()\n",
    "family_status_grouped['debt_delayed_ratio'] = (data.groupby('family_status')['debt'].sum() / data.groupby('family_status')['debt'].count()).map(\"{:.2%}\".format)\n",
    "family_status_grouped[['debt', 'debt_delayed', 'debt_delayed_ratio']]\n",
    "\n"
   ]
  },
  {
   "cell_type": "markdown",
   "id": "f5d5fa9a",
   "metadata": {
    "deletable": false,
    "id": "1cef7837"
   },
   "source": [
    "**Вывод:** наилучшие показатели демонстрируют люди категории \"вдовец/вдова\", возможно это связано с совместнонажитым имущестом. На втором месте мы видим людей в разводе - вероятно, снижаются личные траты, высвобождаетя дополнительное время для заработка. Также не плохие показатели у категории \"женат/замужем\", эти люди понимают материальную ответветсвеннось не только за себя, но и за мужа/жену.\n",
    "\n",
    "Также смею предположить, что семейное положение чаще всего зависит от возраста человека.\n",
    "если можно было бы выделить своего рода \"семейный лифт\", то он бы выглядел следующим образом:\n",
    "человек взрослеет будучи не женатым, затем он находится в гражданском браке, потом женится и только после этого возможны такие сценарии, как: Развод и смерть.\n",
    "Я считаю, что исодя из этих данных может выявить четкую всаимосвязь с возрастом человека, чаще всего чем старше человек, тем он более материально устойчив, а семейное положение в какой-то мере и отображает возраст человека"
   ]
  },
  {
   "cell_type": "markdown",
   "id": "407d9f88",
   "metadata": {},
   "source": [
    "<div class=\"alert-success\" style=\"padding: 20px; border-radius: 10px\">\n",
    "<b>Комментарий ревьюера ✔️</b>\n",
    "\n",
    "Если обобщить категории по отношению к браку, можно сказать, что состоящие или состоявшие в браке заемщики реже допускают просрочки.\n",
    "    \n",
    "Хорошая гипотеза на счет влияния возраста."
   ]
  },
  {
   "cell_type": "markdown",
   "id": "63ca9cb3",
   "metadata": {
    "deletable": false,
    "editable": false,
    "id": "1e8b2fca"
   },
   "source": [
    "#### 3.3 Есть ли зависимость между уровнем дохода и возвратом кредита в срок?"
   ]
  },
  {
   "cell_type": "code",
   "execution_count": 24,
   "id": "f3e9b436",
   "metadata": {
    "deletable": false,
    "id": "cd7e3720"
   },
   "outputs": [
    {
     "data": {
      "text/html": [
       "<div>\n",
       "<style scoped>\n",
       "    .dataframe tbody tr th:only-of-type {\n",
       "        vertical-align: middle;\n",
       "    }\n",
       "\n",
       "    .dataframe tbody tr th {\n",
       "        vertical-align: top;\n",
       "    }\n",
       "\n",
       "    .dataframe thead th {\n",
       "        text-align: right;\n",
       "    }\n",
       "</style>\n",
       "<table border=\"1\" class=\"dataframe\">\n",
       "  <thead>\n",
       "    <tr style=\"text-align: right;\">\n",
       "      <th></th>\n",
       "      <th>debt</th>\n",
       "      <th>debt_delayed</th>\n",
       "      <th>debt_delayed_ratio</th>\n",
       "    </tr>\n",
       "    <tr>\n",
       "      <th>total_income_category</th>\n",
       "      <th></th>\n",
       "      <th></th>\n",
       "      <th></th>\n",
       "    </tr>\n",
       "  </thead>\n",
       "  <tbody>\n",
       "    <tr>\n",
       "      <th>A</th>\n",
       "      <td>25</td>\n",
       "      <td>2</td>\n",
       "      <td>8.00%</td>\n",
       "    </tr>\n",
       "    <tr>\n",
       "      <th>B</th>\n",
       "      <td>5013</td>\n",
       "      <td>354</td>\n",
       "      <td>7.06%</td>\n",
       "    </tr>\n",
       "    <tr>\n",
       "      <th>C</th>\n",
       "      <td>13831</td>\n",
       "      <td>1183</td>\n",
       "      <td>8.55%</td>\n",
       "    </tr>\n",
       "    <tr>\n",
       "      <th>D</th>\n",
       "      <td>349</td>\n",
       "      <td>21</td>\n",
       "      <td>6.02%</td>\n",
       "    </tr>\n",
       "    <tr>\n",
       "      <th>E</th>\n",
       "      <td>22</td>\n",
       "      <td>2</td>\n",
       "      <td>9.09%</td>\n",
       "    </tr>\n",
       "  </tbody>\n",
       "</table>\n",
       "</div>"
      ],
      "text/plain": [
       "                        debt  debt_delayed debt_delayed_ratio\n",
       "total_income_category                                        \n",
       "A                         25             2              8.00%\n",
       "B                       5013           354              7.06%\n",
       "C                      13831          1183              8.55%\n",
       "D                        349            21              6.02%\n",
       "E                         22             2              9.09%"
      ]
     },
     "execution_count": 24,
     "metadata": {},
     "output_type": "execute_result"
    }
   ],
   "source": [
    "def categorize_income(income):\n",
    "    try:\n",
    "        if 0 <= income <= 30000:\n",
    "            return 'E'\n",
    "        elif 30001 <= income <= 50000:\n",
    "            return 'D'\n",
    "        elif 50001 <= income <= 200000:\n",
    "            return 'C'\n",
    "        elif 200001 <= income <= 1000000:\n",
    "            return 'B'\n",
    "        elif income >= 1000001:\n",
    "            return 'A'\n",
    "    except:\n",
    "        pass\n",
    "\n",
    "data['total_income_category'] = data['total_income'].apply(categorize_income)\n",
    "\n",
    "\n",
    "income_category_grouped = data.groupby('total_income_category').count()\n",
    "income_category_grouped['debt_delayed'] = data.groupby('total_income_category')['debt'].sum()\n",
    "income_category_grouped['debt_delayed_ratio'] = (data.groupby('total_income_category')['debt'].sum() / data.groupby('total_income_category')['debt'].count()).map(\"{:.2%}\".format)\n",
    "income_category_grouped[['debt', 'debt_delayed', 'debt_delayed_ratio']]\n",
    "\n"
   ]
  },
  {
   "cell_type": "markdown",
   "id": "7bd2c578",
   "metadata": {
    "deletable": false,
    "id": "e8593def"
   },
   "source": [
    "**Вывод:**  Самой дисциплинированной категорией являются люди, с доходом от 30 до 50 тыс рублей\n",
    "категория людей с доходом от 1 млн и до 30 тыс рублей очень невелика, всего лишь 2 десятка представителей. Потому что, людям с зарплатой до 30 тыс скорее всего просто не одобрят кредит, а люди с доходом от 1 млн предпочитают рассчитывать на собственные средства\n",
    "\n",
    " UPD: Поэтому во внимание берем 3 категории по середине"
   ]
  },
  {
   "cell_type": "markdown",
   "id": "efd58594",
   "metadata": {},
   "source": [
    "<div class=\"alert-warning\" style=\"padding: 20px; border-radius: 10px\">\n",
    "<b>Комментарий ревьюера ⚠️</b>\n",
    "\n",
    "А какую можно выявить зависимость, если сравнить только две самые многочисленные выборки?</div>"
   ]
  },
  {
   "cell_type": "markdown",
   "id": "7ce4c508",
   "metadata": {},
   "source": [
    "<div class=\"alert-warning\" style=\"border-radius: 10px; padding: 20px\">\n",
    "<b>Комментарий ревьюера V2 ⚠️</b>\n",
    "\n",
    "Если сравнить только две самые большие категории C (50 - 200) и B (200 - 1 млн), выходит что заемщики с более высоким доходом являются более надежными.\n",
    "\n",
    "Также в качестве рекомендации можно предложить банку изменить градацию дохода, чтобы получить более сбалансированные выборки.</div>"
   ]
  },
  {
   "cell_type": "markdown",
   "id": "6814d132",
   "metadata": {
    "deletable": false,
    "editable": false,
    "id": "99ecbd1f"
   },
   "source": [
    "#### 3.4 Как разные цели кредита влияют на его возврат в срок?"
   ]
  },
  {
   "cell_type": "code",
   "execution_count": 25,
   "id": "d9aeb3c5",
   "metadata": {
    "deletable": false,
    "id": "2b687290"
   },
   "outputs": [
    {
     "data": {
      "text/html": [
       "<div>\n",
       "<style scoped>\n",
       "    .dataframe tbody tr th:only-of-type {\n",
       "        vertical-align: middle;\n",
       "    }\n",
       "\n",
       "    .dataframe tbody tr th {\n",
       "        vertical-align: top;\n",
       "    }\n",
       "\n",
       "    .dataframe thead th {\n",
       "        text-align: right;\n",
       "    }\n",
       "</style>\n",
       "<table border=\"1\" class=\"dataframe\">\n",
       "  <thead>\n",
       "    <tr style=\"text-align: right;\">\n",
       "      <th></th>\n",
       "      <th>debt</th>\n",
       "      <th>debt_delayed</th>\n",
       "      <th>debt_delayed_ratio</th>\n",
       "    </tr>\n",
       "    <tr>\n",
       "      <th>purpose_category</th>\n",
       "      <th></th>\n",
       "      <th></th>\n",
       "      <th></th>\n",
       "    </tr>\n",
       "  </thead>\n",
       "  <tbody>\n",
       "    <tr>\n",
       "      <th>операции с автомобилем</th>\n",
       "      <td>4288</td>\n",
       "      <td>400</td>\n",
       "      <td>9.33%</td>\n",
       "    </tr>\n",
       "    <tr>\n",
       "      <th>операции с недвижимостью</th>\n",
       "      <td>10780</td>\n",
       "      <td>780</td>\n",
       "      <td>7.24%</td>\n",
       "    </tr>\n",
       "    <tr>\n",
       "      <th>получение образования</th>\n",
       "      <td>3997</td>\n",
       "      <td>369</td>\n",
       "      <td>9.23%</td>\n",
       "    </tr>\n",
       "    <tr>\n",
       "      <th>проведение свадьбы</th>\n",
       "      <td>2337</td>\n",
       "      <td>183</td>\n",
       "      <td>7.83%</td>\n",
       "    </tr>\n",
       "  </tbody>\n",
       "</table>\n",
       "</div>"
      ],
      "text/plain": [
       "                           debt  debt_delayed debt_delayed_ratio\n",
       "purpose_category                                                \n",
       "операции с автомобилем     4288           400              9.33%\n",
       "операции с недвижимостью  10780           780              7.24%\n",
       "получение образования      3997           369              9.23%\n",
       "проведение свадьбы         2337           183              7.83%"
      ]
     },
     "execution_count": 25,
     "metadata": {},
     "output_type": "execute_result"
    }
   ],
   "source": [
    "def categorize_purpose(row):\n",
    "    try:\n",
    "        if 'автом' in row:\n",
    "            return 'операции с автомобилем'\n",
    "        elif 'жил' in row or 'недвиж' in row:\n",
    "            return 'операции с недвижимостью'\n",
    "        elif 'свад' in row:\n",
    "            return 'проведение свадьбы'\n",
    "        elif 'образов' in row:\n",
    "            return 'получение образования'\n",
    "    except:\n",
    "        return 'нет категории'\n",
    "    \n",
    "data['purpose_category'] = data['purpose'].apply(categorize_purpose)\n",
    "\n",
    "purpose_category_grouped = data.groupby('purpose_category').count()\n",
    "purpose_category_grouped['debt_delayed'] = data.groupby('purpose_category')['debt'].sum()\n",
    "purpose_category_grouped['debt_delayed_ratio'] = (data.groupby('purpose_category')['debt'].sum() / data.groupby('purpose_category')['debt'].count()).map(\"{:.2%}\".format)\n",
    "purpose_category_grouped[['debt', 'debt_delayed', 'debt_delayed_ratio']]"
   ]
  },
  {
   "cell_type": "markdown",
   "id": "9c44dc2d",
   "metadata": {
    "deletable": false,
    "id": "b4bb2ce6"
   },
   "source": [
    "**Вывод:** самые дисциплинированные замещики берут кредит на опрерации с недвижимостью, остаться без жилья - лучшая мотивация для чеговека. Проведение свадьбы неожиданно на втором месте, вероятно молодожены возвращают весомую часть кредита сразу после свадьбы с подарков от гостей. А вот брать кредит на автомобиль - не лучашя затея"
   ]
  },
  {
   "cell_type": "markdown",
   "id": "a0e40ba2",
   "metadata": {},
   "source": [
    "<div class=\"alert-success\" style=\"padding: 20px; border-radius: 10px\">\n",
    "<b>Комментарий ревьюера ✔️</b>\n",
    "\n",
    "Все правильно. Молодец, что формулируешь гипотезы о причинах, которые могли привести к полученным результатам. 👍</div>"
   ]
  },
  {
   "cell_type": "markdown",
   "id": "33eb9462",
   "metadata": {
    "deletable": false,
    "editable": false,
    "id": "09c3ac4c"
   },
   "source": [
    "#### 3.5 Приведите возможные причины появления пропусков в исходных данных."
   ]
  },
  {
   "cell_type": "markdown",
   "id": "e7e98871",
   "metadata": {
    "deletable": false,
    "id": "9da2ceda"
   },
   "source": [
    "*Ответ:*  1)Люди не указывают часть данных намеренно, возможно они считают, что указав количество детей, банк не одобрит им кредит\n",
    "2)Программа не считывает грамотно пропуски, например стоит тип данных int, а вместо числа люди пишут \"один\"\n"
   ]
  },
  {
   "cell_type": "markdown",
   "id": "03b36be9",
   "metadata": {},
   "source": [
    "<div class=\"alert-success\" style=\"padding: 20px; border-radius: 10px\">\n",
    "<b>Комментарий ревьюера ✔️</b>\n",
    "\n",
    "Предположения о возникновении пропусков правильные: либо человеческий фактор, либо техническая ошибка. </div>"
   ]
  },
  {
   "cell_type": "markdown",
   "id": "622949ff",
   "metadata": {
    "deletable": false,
    "editable": false,
    "id": "7b0487d6"
   },
   "source": [
    "#### 3.6 Объясните, почему заполнить пропуски медианным значением — лучшее решение для количественных переменных."
   ]
  },
  {
   "cell_type": "markdown",
   "id": "0f41f4a6",
   "metadata": {
    "deletable": false,
    "id": "7ecf2b8e"
   },
   "source": [
    "*Ответ:* Медиана с математической точки зрения отражает наиболее точно среднее значение в данных, если вместо пропусков поставить нуля - изменится общая картина. Медиана здесь лучший вариант"
   ]
  },
  {
   "cell_type": "markdown",
   "id": "404fd94d",
   "metadata": {},
   "source": [
    "<div class=\"alert-success\" style=\"padding: 20px; border-radius: 10px\">\n",
    "<b>Комментарий ревьюера ✔️</b>\n",
    "\n",
    "Медиана менее чувствительна к выбросам, чем среднее значение. Для примера можешь рассчитать и сравнить медиану и среднее значение для столбца `days_employed`.</div>"
   ]
  },
  {
   "cell_type": "markdown",
   "id": "65c8f3c7",
   "metadata": {
    "deletable": false,
    "editable": false,
    "id": "6db5255a"
   },
   "source": [
    "### Шаг 4: общий вывод."
   ]
  },
  {
   "cell_type": "markdown",
   "id": "d227dc27",
   "metadata": {
    "deletable": false,
    "id": "bad65432"
   },
   "source": [
    "Напишите ваш общий вывод.\n",
    "\n",
    "В процессе работы над данным проектом мы провели предобработку данных, а именно: удаление пропусков, обработка неявных дубликатов и изменение типов данных.\n",
    "\n",
    "Далее мы определяли есть ли зависимость между разными факторами и возвратом кредита в срок. Зависимость была выявлена по всем категориям:\n",
    "\n",
    "Количество детей у заемщика влияет на возврат кредита в срок. Заемщики без детей более надежные.\n",
    "\n",
    "Семейное положение также влияет на возврат кредита в срок - Люди которые женаты или были женаты более отвественно подходят к финансовым вопросам\n",
    "\n",
    "Уровень дохода также влияет, люди с небольшим достатком более дисциплинированы\n",
    "\n",
    "Цель выдачи кредита также важна. Такие цели, как покупка жилья и свадебная церемония выявлют более добросоветсных заемщиков\n",
    "\n",
    "\n",
    "Просрочка по кредиту зависит от всех факторов в совокупности, но составить портрет лучшего заемщика все же возможно\n",
    "\n",
    "человек средних лет без детей, с небольшим доходом, берет кредит на жилье, либо для того чтобы сыграть свадьбу \n"
   ]
  },
  {
   "cell_type": "markdown",
   "id": "0db5db65",
   "metadata": {},
   "source": [
    "<div class=\"alert-success\" style=\"padding: 20px; border-radius: 10px\">\n",
    "<b>Комментарий ревьюера V2 ✔️</b>\n",
    "\n",
    "Теперь у тебя хороший общий вывод, отражающий основные результаты исследования. Можно добавить рекомендации банку для повышения качества сбора данных.</div>"
   ]
  },
  {
   "cell_type": "markdown",
   "id": "209cca20",
   "metadata": {},
   "source": [
    "<div class=\"alert-danger\" style=\"padding: 20px; border-radius: 10px\">\n",
    "\n",
    "<b>Комментарий ревьюера ❌</b></h5>\n",
    "\n",
    "<s>Общий вывод - важный элемент работы. Его нужно сформулировать, взяв основные результаты из всех шагов проекта. Начать нужно с того, с какими данными мы работали и какие действия провели на этапе предобработки (коротко), далее - сформулировать все выявленные зависимости просрочки от различных факторов и закончить рекомендациями заказчику по улучшению сбора данных и системы скоринга.\n",
    "\n",
    "Заказчик, зачастую, читает только общий вывод исследования - поэтому он должен быть максимально информативным.</div>"
   ]
  },
  {
   "cell_type": "markdown",
   "id": "531a5ac4",
   "metadata": {},
   "source": [
    "<div style=\"border:solid steelblue 3px; padding: 20px; border-radius: 10px\">\n",
    "\n",
    "<h5><b>🏁 Общий комментарий ревьюера:</b></h5>\n",
    "\n",
    "Ты хорошо справился с заданием. Но нужно кое-что исправить, в проекте, чтобы я его принял.\n",
    "\n",
    "У меня только одно критическое замечание - касательно общего вывода. Его нужно раскрыть поподробнее.\n",
    "\n",
    "Также, постарайся отработать желтые комментарии.\n",
    "\n",
    "Буду ждать твой доработанный проект. ⌛️</div>"
   ]
  },
  {
   "cell_type": "markdown",
   "id": "1363ff09",
   "metadata": {},
   "source": [
    "<div style=\"border:solid steelblue 3px; padding: 20px; border-radius: 10px\">\n",
    "\n",
    "<h5><b>🏁 Общий комментарий ревьюера V2</b></h5>\n",
    "\n",
    "Спасибо, что учел мои замечания и доработал проект, получилась очень хорошая работа!\n",
    "\n",
    "Успехов в дальнейшем обучении! 🏆\n",
    "\n",
    "</div>"
   ]
  },
  {
   "cell_type": "code",
   "execution_count": null,
   "id": "6e7a1ed9",
   "metadata": {},
   "outputs": [],
   "source": []
  }
 ],
 "metadata": {
  "ExecuteTimeLog": [
   {
    "duration": 52,
    "start_time": "2023-11-13T13:04:13.944Z"
   },
   {
    "duration": 614,
    "start_time": "2023-11-13T13:05:30.008Z"
   },
   {
    "duration": 138,
    "start_time": "2023-11-13T13:05:50.334Z"
   },
   {
    "duration": 94,
    "start_time": "2023-11-13T13:06:06.667Z"
   },
   {
    "duration": 101,
    "start_time": "2023-11-13T13:07:03.568Z"
   },
   {
    "duration": 173,
    "start_time": "2023-11-13T13:09:28.788Z"
   },
   {
    "duration": 95,
    "start_time": "2023-11-13T13:10:06.028Z"
   },
   {
    "duration": 231,
    "start_time": "2023-11-13T14:14:18.896Z"
   },
   {
    "duration": 31,
    "start_time": "2023-11-13T14:14:28.845Z"
   },
   {
    "duration": 4,
    "start_time": "2023-11-13T14:24:45.753Z"
   },
   {
    "duration": 4,
    "start_time": "2023-11-13T14:24:49.278Z"
   },
   {
    "duration": 47,
    "start_time": "2023-11-13T14:27:03.878Z"
   },
   {
    "duration": 40,
    "start_time": "2023-11-13T14:27:57.284Z"
   },
   {
    "duration": 42,
    "start_time": "2023-11-13T14:30:17.353Z"
   },
   {
    "duration": 199,
    "start_time": "2023-11-13T14:30:39.100Z"
   },
   {
    "duration": 75,
    "start_time": "2023-11-13T14:30:47.432Z"
   },
   {
    "duration": 5,
    "start_time": "2023-11-13T14:31:06.888Z"
   },
   {
    "duration": 6,
    "start_time": "2023-11-13T14:31:09.134Z"
   },
   {
    "duration": 42,
    "start_time": "2023-11-13T14:31:30.279Z"
   },
   {
    "duration": 39,
    "start_time": "2023-11-13T14:39:06.792Z"
   },
   {
    "duration": 478,
    "start_time": "2023-11-13T16:21:43.674Z"
   },
   {
    "duration": 26,
    "start_time": "2023-11-13T16:21:44.154Z"
   },
   {
    "duration": 17,
    "start_time": "2023-11-13T16:21:44.181Z"
   },
   {
    "duration": 13,
    "start_time": "2023-11-13T16:21:44.201Z"
   },
   {
    "duration": 42,
    "start_time": "2023-11-13T16:21:44.235Z"
   },
   {
    "duration": 4,
    "start_time": "2023-11-13T16:21:44.279Z"
   },
   {
    "duration": 13,
    "start_time": "2023-11-13T16:21:44.284Z"
   },
   {
    "duration": 4,
    "start_time": "2023-11-13T16:21:44.299Z"
   },
   {
    "duration": 31,
    "start_time": "2023-11-13T16:21:44.305Z"
   },
   {
    "duration": 5,
    "start_time": "2023-11-13T16:21:44.339Z"
   },
   {
    "duration": 38,
    "start_time": "2023-11-13T16:21:44.346Z"
   },
   {
    "duration": 11,
    "start_time": "2023-11-13T16:21:44.386Z"
   },
   {
    "duration": 4,
    "start_time": "2023-11-13T16:21:44.399Z"
   },
   {
    "duration": 36,
    "start_time": "2023-11-13T16:21:44.405Z"
   },
   {
    "duration": 23,
    "start_time": "2023-11-13T16:21:44.443Z"
   },
   {
    "duration": 17,
    "start_time": "2023-11-13T16:21:44.468Z"
   },
   {
    "duration": 3,
    "start_time": "2023-11-13T16:21:44.487Z"
   },
   {
    "duration": 18,
    "start_time": "2023-11-13T16:21:44.491Z"
   },
   {
    "duration": 6,
    "start_time": "2023-11-13T16:21:44.510Z"
   },
   {
    "duration": 4,
    "start_time": "2023-11-13T16:21:44.536Z"
   },
   {
    "duration": 15,
    "start_time": "2023-11-13T16:21:44.542Z"
   },
   {
    "duration": 90,
    "start_time": "2023-11-13T16:21:44.558Z"
   },
   {
    "duration": 25,
    "start_time": "2023-11-13T16:21:44.649Z"
   },
   {
    "duration": 39,
    "start_time": "2023-11-13T16:21:44.676Z"
   },
   {
    "duration": 57,
    "start_time": "2023-11-13T16:21:44.716Z"
   },
   {
    "duration": 502,
    "start_time": "2024-04-30T16:31:41.078Z"
   },
   {
    "duration": 23,
    "start_time": "2024-04-30T16:31:41.582Z"
   },
   {
    "duration": 15,
    "start_time": "2024-04-30T16:31:41.606Z"
   },
   {
    "duration": 10,
    "start_time": "2024-04-30T16:31:41.623Z"
   },
   {
    "duration": 37,
    "start_time": "2024-04-30T16:31:41.635Z"
   },
   {
    "duration": 20,
    "start_time": "2024-04-30T16:31:41.673Z"
   },
   {
    "duration": 9,
    "start_time": "2024-04-30T16:31:41.694Z"
   },
   {
    "duration": 5,
    "start_time": "2024-04-30T16:31:41.704Z"
   },
   {
    "duration": 9,
    "start_time": "2024-04-30T16:31:41.710Z"
   },
   {
    "duration": 5,
    "start_time": "2024-04-30T16:31:41.720Z"
   },
   {
    "duration": 69,
    "start_time": "2024-04-30T16:31:41.727Z"
   },
   {
    "duration": 11,
    "start_time": "2024-04-30T16:31:41.797Z"
   },
   {
    "duration": 4,
    "start_time": "2024-04-30T16:31:41.809Z"
   },
   {
    "duration": 13,
    "start_time": "2024-04-30T16:31:41.815Z"
   },
   {
    "duration": 20,
    "start_time": "2024-04-30T16:31:41.829Z"
   },
   {
    "duration": 44,
    "start_time": "2024-04-30T16:31:41.850Z"
   },
   {
    "duration": 3,
    "start_time": "2024-04-30T16:31:41.896Z"
   },
   {
    "duration": 11,
    "start_time": "2024-04-30T16:31:41.901Z"
   },
   {
    "duration": 5,
    "start_time": "2024-04-30T16:31:41.914Z"
   },
   {
    "duration": 19,
    "start_time": "2024-04-30T16:31:41.920Z"
   },
   {
    "duration": 12,
    "start_time": "2024-04-30T16:31:41.940Z"
   },
   {
    "duration": 97,
    "start_time": "2024-04-30T16:31:41.953Z"
   },
   {
    "duration": 26,
    "start_time": "2024-04-30T16:31:42.052Z"
   },
   {
    "duration": 47,
    "start_time": "2024-04-30T16:31:42.079Z"
   },
   {
    "duration": 38,
    "start_time": "2024-04-30T16:31:42.128Z"
   }
  ],
  "colab": {
   "name": "dpp_template_part2.ipynb",
   "provenance": []
  },
  "kernelspec": {
   "display_name": "Python 3 (ipykernel)",
   "language": "python",
   "name": "python3"
  },
  "language_info": {
   "codemirror_mode": {
    "name": "ipython",
    "version": 3
   },
   "file_extension": ".py",
   "mimetype": "text/x-python",
   "name": "python",
   "nbconvert_exporter": "python",
   "pygments_lexer": "ipython3",
   "version": "3.9.5"
  },
  "toc": {
   "base_numbering": 1,
   "nav_menu": {},
   "number_sections": true,
   "sideBar": true,
   "skip_h1_title": true,
   "title_cell": "Table of Contents",
   "title_sidebar": "Contents",
   "toc_cell": false,
   "toc_position": {
    "height": "calc(100% - 180px)",
    "left": "10px",
    "top": "150px",
    "width": "502.391px"
   },
   "toc_section_display": true,
   "toc_window_display": true
  }
 },
 "nbformat": 4,
 "nbformat_minor": 5
}
